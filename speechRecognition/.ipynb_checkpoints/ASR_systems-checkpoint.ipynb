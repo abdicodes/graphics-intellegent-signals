{
 "cells": [
  {
   "cell_type": "code",
   "execution_count": 34,
   "id": "00b1198d",
   "metadata": {},
   "outputs": [],
   "source": [
    "# adapted from https://github.com/mozilla/DeepSpeech/blob/master/native_client/python/client.py\n",
    "# which has a Mozzila Public License:\n",
    "# https://github.com/mozilla/DeepSpeech/blob/master/LICENSE\n",
    "\n",
    "from deepspeech import Model, version\n",
    "import librosa as lr\n",
    "import numpy as np\n",
    "import os \n",
    "from jiwer import wer\n",
    "from pydub import AudioSegment\n",
    "\n",
    "\n",
    "# paths to models and scorers\n",
    "en_scorer = \"./models/deepspeech-0.9.3-models.scorer\"\n",
    "en_model = \"./models/deepspeech-0.9.3-models.pbmm\"\n",
    "es_scorer = \"./models/kenlm_es.scorer\"\n",
    "es_model = \"./models/output_graph_es.pbmm\"\n",
    "it_scorer = \"./models/kenlm_it.scorer\"\n",
    "it_model = \"./models/output_graph_it.pbmm\"\n",
    "\n",
    "#names of audio files\n",
    "en_audio_files = ['checkin.wav', 'checkin_child.wav','parents.wav','parents_child.wav', 'suitcase.wav',\n",
    "               'suitcase_child.wav','what_time.wav','what_time_child.wav', 'where.wav','where_child.wav',\n",
    "                 'your_sentence1.wav', 'your_sentence2.wav']\n",
    "it_audio_files = ['checkin_it.wav','parents_it.wav', 'suitcase_it.wav',\n",
    "              'what_time_it.wav', 'where_it.wav']\n",
    "es_audio_files = ['checkin_es.wav','parents_es.wav', 'suitcase_es.wav',\n",
    "              'what_time_es.wav', 'where_es.wav']\n",
    "\n",
    "#Transcript that we are going to compare our initial work with \n",
    "en = ['where is the check in desk','where is the check in desk','i have lost my parents','i have lost my parents',\n",
    "      'please i have lost my suitcase','please i have lost my suitcase', 'what time is my plane',\n",
    "        'what time is my plane','where are the restaurants and shops','where are the restaurants and shops',\n",
    "     'how are you', 'you are welcome']\n",
    "\n",
    "es = ['dónde están los mostradores','he perdido a mis padres','por favor he perdido mi maleta',\n",
    "     'a qué hora es mi avión','dónde están los restaurantes y las tiendas']\n",
    "it = ['dove e il bancone', 'ho perso i miei genitori','per favore ho perso la mia valigia',\n",
    "         'a che ora e il mio aereo', 'dove sono i ristoranti e i negozi']\n",
    "\n",
    "\n"
   ]
  },
  {
   "cell_type": "code",
   "execution_count": 61,
   "id": "0c27c57c",
   "metadata": {},
   "outputs": [],
   "source": [
    "\n",
    "\n",
    "def deepspeech_ASR(model, scorer, language):\n",
    "    \n",
    "    audio_dir = ''\n",
    "    audio_file_list = '' \n",
    "    words_list = ''\n",
    "    \n",
    "    ds = Model(model)\n",
    "    ds.enableExternalScorer(scorer)\n",
    "    hypothesis = []\n",
    "    one_sec_segment = AudioSegment.silent(duration=700) # silent padding \n",
    "    i = 0\n",
    "    desired_sample_rate = ds.sampleRate()\n",
    "    \n",
    "    if (language == 'english'):\n",
    "        audio_dir = 'EN/'\n",
    "        words_list = en\n",
    "        audio_file_list = en_audio_files\n",
    "    elif (language == 'italian'):\n",
    "        audio_dir = 'IT/'\n",
    "        words_list = it\n",
    "        audio_file_list = it_audio_files \n",
    "    elif (language == 'spanish'):\n",
    "        audio_dir = 'ES/'\n",
    "        audio_file_list = es_audio_files \n",
    "        words_list = es\n",
    "        \n",
    "    for audio_file_name in audio_file_list:\n",
    "        \n",
    "\n",
    "\n",
    "        audio = AudioSegment.from_wav(\"./Ex4_audio_files/\"+audio_dir+audio_file_name)\n",
    "        audio = audio + 6\n",
    "        audio = audio.apply_gain(audio.dBFS - audio.max_dBFS)\n",
    "        audio = one_sec_segment + audio + one_sec_segment\n",
    "        audio.export(\"temp.wav\", format=\"wav\")\n",
    "\n",
    "\n",
    "\n",
    "        audio = lr.load(\"temp.wav\", sr=desired_sample_rate)[0]    \n",
    "        audio = (audio * 32767).astype(np.int16) # scale from -1 to 1 to +/-32767\n",
    "        res = ds.stt(audio)\n",
    "        hypothesis.append(res)\n",
    "        wer_string = str(round(wer(res, words_list[i]),1) * 100)+\"%\"\n",
    "        print(\"Language: \"+language+\" file : \"+audio_file_name+ \" WER: \"+wer_string)\n",
    "        i+=1\n",
    "    total_wer_string = str(round(wer(hypothesis, words_list),1) * 100)+\"%\"\n",
    "    print(f'\\nPredicted sentences\\n')\n",
    "    print(hypothesis)\n",
    "    print(f'\\nactual sentences\\n')\n",
    "    print(words_list)\n",
    "    print (f'\\n')\n",
    "    print(\"Total WER for \"+language+ \": \"+total_wer_string)\n",
    "\n"
   ]
  },
  {
   "cell_type": "code",
   "execution_count": 53,
   "id": "9cf5af5e",
   "metadata": {},
   "outputs": [
    {
     "name": "stdout",
     "output_type": "stream",
     "text": [
      "Language: english file : checkin.wav WER: 0.0%\n",
      "Language: english file : checkin_child.wav WER: 170.0%\n",
      "Language: english file : parents.wav WER: 20.0%\n",
      "Language: english file : parents_child.wav WER: 0.0%\n",
      "Language: english file : suitcase.wav WER: 0.0%\n",
      "Language: english file : suitcase_child.wav WER: 30.0%\n",
      "Language: english file : what_time.wav WER: 20.0%\n",
      "Language: english file : what_time_child.wav WER: 20.0%\n",
      "Language: english file : where.wav WER: 0.0%\n",
      "Language: english file : where_child.wav WER: 20.0%\n",
      "Language: english file : your_sentence1.wav WER: 0.0%\n",
      "Language: english file : your_sentence2.wav WER: 0.0%\n",
      "Predicted sentences\n",
      "\n",
      "['where is the check in desk', 'the variegated as', 'i had lost my parents', 'i have lost my parents', 'please i have lost my suitcase', 'then i have lost my sakes', 'what time is my plan', 'what time is my plan', 'where are the restaurants and shops', 'where the restaurants and shops', 'how are you', 'you are welcome']\n",
      "=================\n",
      "\n",
      "actual sentences\n",
      "\n",
      "['where is the check in desk', 'where is the check in desk', 'i have lost my parents', 'i have lost my parents', 'please i have lost my suitcase', 'please i have lost my suitcase', 'what time is my plane', 'what time is my plane', 'where are the restaurants and shops', 'where are the restaurants and shops', 'how are you', 'you are welcome']\n",
      "/n\n",
      "Total WER for english: 20.0%\n"
     ]
    }
   ],
   "source": [
    "deepspeech_ASR(en_model, en_scorer, 'english')"
   ]
  },
  {
   "cell_type": "code",
   "execution_count": 62,
   "id": "1c5c93cf",
   "metadata": {},
   "outputs": [
    {
     "name": "stdout",
     "output_type": "stream",
     "text": [
      "Language: spanish file : checkin_es.wav WER: 0.0%\n",
      "Language: spanish file : parents_es.wav WER: 0.0%\n",
      "Language: spanish file : suitcase_es.wav WER: 0.0%\n",
      "Language: spanish file : what_time_es.wav WER: 170.0%\n",
      "Language: spanish file : where_es.wav WER: 30.0%\n",
      "\n",
      "Predicted sentences\n",
      "\n",
      "['dónde están los mostradores', 'he perdido a mis padres', 'por favor he perdido mi maleta', 'ahora es miedo', 'dónde están los restaurantes en las tierras']\n",
      "\n",
      "actual sentences\n",
      "\n",
      "['dónde están los mostradores', 'he perdido a mis padres', 'por favor he perdido mi maleta', 'a qué hora es mi avión', 'dónde están los restaurantes y las tiendas']\n",
      "\n",
      "\n",
      "Total WER for spanish: 30.0%\n"
     ]
    }
   ],
   "source": [
    "deepspeech_ASR(es_model, es_scorer, 'spanish')"
   ]
  },
  {
   "cell_type": "code",
   "execution_count": 63,
   "id": "10d84b6d",
   "metadata": {},
   "outputs": [
    {
     "name": "stdout",
     "output_type": "stream",
     "text": [
      "Language: italian file : checkin_it.wav WER: 20.0%\n",
      "Language: italian file : parents_it.wav WER: 0.0%\n",
      "Language: italian file : suitcase_it.wav WER: 0.0%\n",
      "Language: italian file : what_time_it.wav WER: 30.0%\n",
      "Language: italian file : where_it.wav WER: 80.0%\n",
      "\n",
      "Predicted sentences\n",
      "\n",
      "['dove e il pancone', 'ho perso i miei genitori', 'per favore ho perso la mia valigia', 'a che ora il mio ero', 'dove sono ristoranti negozi']\n",
      "\n",
      "actual sentences\n",
      "\n",
      "['dove e il bancone', 'ho perso i miei genitori', 'per favore ho perso la mia valigia', 'a che ora e il mio aereo', 'dove sono i ristoranti e i negozi']\n",
      "\n",
      "\n",
      "Total WER for italian: 20.0%\n"
     ]
    }
   ],
   "source": [
    "deepspeech_ASR(it_model, it_scorer, 'italian')"
   ]
  },
  {
   "cell_type": "code",
   "execution_count": null,
   "id": "7107e46e",
   "metadata": {},
   "outputs": [],
   "source": []
  }
 ],
 "metadata": {
  "kernelspec": {
   "display_name": "Python 3",
   "language": "python",
   "name": "python3"
  },
  "language_info": {
   "codemirror_mode": {
    "name": "ipython",
    "version": 3
   },
   "file_extension": ".py",
   "mimetype": "text/x-python",
   "name": "python",
   "nbconvert_exporter": "python",
   "pygments_lexer": "ipython3",
   "version": "3.8.8"
  }
 },
 "nbformat": 4,
 "nbformat_minor": 5
}

{
 "cells": [
  {
   "cell_type": "code",
   "execution_count": null,
   "id": "4eb59bb0",
   "metadata": {},
   "outputs": [],
   "source": [
    "import wave\n",
    "song = wave.open(\"song_embedded.wav\", mode='rb')\n",
    "# Convert audio to byte array\n",
    "frame_bytes = bytearray(list(song.readframes(song.getnframes())))\n",
    "\n",
    "# Extract the LSB of each byte\n",
    "extracted = [frame_bytes[i] & 1 for i in range(len(frame_bytes))]\n",
    "# Convert byte array back to string\n",
    "string = \"\".join(chr(int(\"\".join(map(str,extracted[i:i+8])),2)) for i in range(0,len(extracted),8))\n",
    "# Cut off at the filler characters\n",
    "decoded = string.split(\"###\")[0]\n",
    "\n",
    "# Print the extracted text\n",
    "print(\"Sucessfully decoded: \"+decoded)\n",
    "song.close()"
   ]
  },
  {
   "cell_type": "code",
   "execution_count": 1,
   "id": "eb496a75",
   "metadata": {},
   "outputs": [],
   "source": [
    "import wave\n",
    "# read wave audio file\n",
    "with wave.open(\"Ex3_sound1.wav\", mode='rb') as wav:\n",
    "    f_bytes = bytearray(list(wav.readframes(wav.getnframes())))\n",
    "    "
   ]
  },
  {
   "cell_type": "code",
   "execution_count": 2,
   "id": "c5bcc883",
   "metadata": {},
   "outputs": [],
   "source": [
    "extracted_bytes = [f_bytes[i] & 1 for i in range(len(f_bytes))]\n",
    "secret_message = \"\".join(chr(int(\"\".join(map(str,extracted_bytes[i:i+8])),2)) for i in range(0,len(extracted_bytes),8))"
   ]
  },
  {
   "cell_type": "code",
   "execution_count": 3,
   "id": "6ed87f4f",
   "metadata": {},
   "outputs": [
    {
     "name": "stdout",
     "output_type": "stream",
     "text": [
      "Secret message is : Mom I will not be home for supper\n"
     ]
    }
   ],
   "source": [
    "decrypted_message = secret_message.split(\"###\")[0]\n",
    "\n",
    "# Print the extracted text\n",
    "print(\"Secret message is : \"+decrypted_message)\n",
    "wav.close()"
   ]
  },
  {
   "cell_type": "code",
   "execution_count": null,
   "id": "f53407b2",
   "metadata": {},
   "outputs": [],
   "source": []
  }
 ],
 "metadata": {
  "kernelspec": {
   "display_name": "Python 3",
   "language": "python",
   "name": "python3"
  },
  "language_info": {
   "codemirror_mode": {
    "name": "ipython",
    "version": 3
   },
   "file_extension": ".py",
   "mimetype": "text/x-python",
   "name": "python",
   "nbconvert_exporter": "python",
   "pygments_lexer": "ipython3",
   "version": "3.8.8"
  }
 },
 "nbformat": 4,
 "nbformat_minor": 5
}
